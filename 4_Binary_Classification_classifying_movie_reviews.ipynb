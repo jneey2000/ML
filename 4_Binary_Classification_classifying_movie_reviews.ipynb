{
  "cells": [
    {
      "cell_type": "markdown",
      "metadata": {
        "id": "view-in-github",
        "colab_type": "text"
      },
      "source": [
        "<a href=\"https://colab.research.google.com/github/jneey2000/ML/blob/main/4_Binary_Classification_classifying_movie_reviews.ipynb\" target=\"_parent\"><img src=\"https://colab.research.google.com/assets/colab-badge.svg\" alt=\"Open In Colab\"/></a>"
      ]
    },
    {
      "cell_type": "code",
      "execution_count": null,
      "metadata": {
        "colab": {
          "base_uri": "https://localhost:8080/",
          "height": 35
        },
        "id": "LpCycEjws572",
        "outputId": "ce1c9026-5059-48fb-b445-aa18c7d51f49"
      },
      "outputs": [
        {
          "output_type": "execute_result",
          "data": {
            "text/plain": [
              "'2.15.0'"
            ],
            "application/vnd.google.colaboratory.intrinsic+json": {
              "type": "string"
            }
          },
          "metadata": {},
          "execution_count": 1
        }
      ],
      "source": [
        "import keras\n",
        "keras.__version__"
      ]
    },
    {
      "cell_type": "markdown",
      "metadata": {
        "id": "l6wqBA20s574"
      },
      "source": [
        "# Classifying movie reviews: a binary classification example\n",
        "\n",
        "### Two-class classification, or binary classification:\n",
        "- It may be the most widely applied kind of machine learning problem.  \n",
        "(Binary Classification: 2종 분류 또는 이진 분류는 아마도 가장 널리 적용된 머신 러닝 문제일 것임)\n",
        "- In this example, we will learn to classify movie reviews into **\"positive\" reviews** and **\"negative\" reviews**, just based on the text content of the reviews.  \n",
        "(이 예제에서 리뷰 텍스트를 기반으로 영화 리뷰를 긍정과 부정로 분류하는 법을 배움.)\n"
      ]
    },
    {
      "cell_type": "markdown",
      "metadata": {
        "id": "lxBLscHds575"
      },
      "source": [
        "## IMDB 데이터셋\n",
        "\n",
        "- 인터넷 영화 데이터베이스로부터 가져온 양극단의 리뷰 50,000개로 이루어진 IMDB 데이터셋을 사용  \n",
        "- 이 데이터셋은 훈련 데이터 25,000개와 테스트 데이터 25,000개로 나뉘어 있고  \n",
        "각각 50%는 부정, 50%는 긍정 리뷰로 구성되어 있음.\n",
        "\n",
        "- <font color=\"orange\">**왜 훈련 데이터와 테스트 데이터를 나눌까?**</font>  \n",
        "=> <U>같은 데이터에서 머신 러닝 모델을 훈련하고 테스트해서는 절대 안 되기 때문임.</U>  \n",
        "- 모델이 훈련 데이터에서 잘 작동한다는 것이 처음 만난 데이터에서도 잘 동작한다는 것을 보장하지 않음.\n",
        "- <font color=\"orange\">**일반화 성능 (generalization performance)**</font>: 중요한 것은 새로운 데이터에 대한 모델의 성능임  \n",
        "(사실 훈련 데이터의 레이블은 이미 알고 있기 때문에 이를 예측하는 모델은 필요하지 않음).   \n",
        "- 예를 들어 모델이 훈련 샘플과 타깃 사이의 매핑을 모두 외워버릴 수 있음.  \n",
        "<--과적합(overfitting) 발생  \n",
        "- 이런 모델은 처음 만나는 데이터에서 타깃을 예측하는 작업에는 쓸모가 없음.\n",
        "\n",
        "- MNIST 데이터셋처럼 IMDB 데이터셋도 케라스에 포함되어 있음 [Keras-Datasets](https://keras.io/datasets/)  \n",
        "- **이 데이터는 전처리되어 있어 각 리뷰(단어 시퀀스)가 <U>숫자 시퀀스로 변환</U>되어 있음**\n",
        "- 여기서 <U><font color=\"orange\">**각 숫자는 사전에 있는 고유한 단어**</font></U>를 나타냄.\n",
        "\n",
        "다음 코드는 데이터셋을 로드합니다(처음 실행하면 17MB 정도의 데이터가 컴퓨터에 다운로드됩니다):"
      ]
    },
    {
      "cell_type": "code",
      "execution_count": null,
      "metadata": {
        "colab": {
          "base_uri": "https://localhost:8080/"
        },
        "id": "v2WUpx8Fs576",
        "outputId": "fe075be6-059d-4870-c111-aa655e427111"
      },
      "outputs": [
        {
          "output_type": "stream",
          "name": "stdout",
          "text": [
            "Downloading data from https://storage.googleapis.com/tensorflow/tf-keras-datasets/imdb.npz\n",
            "17464789/17464789 [==============================] - 0s 0us/step\n"
          ]
        }
      ],
      "source": [
        "from keras.datasets import imdb\n",
        "\n",
        "(train_data, train_labels), (test_data, test_labels) = imdb.load_data(num_words=10000) #의미 : 가장 빈번하게 등장하는 10000개의 단어만 활용하겠다."
      ]
    },
    {
      "cell_type": "markdown",
      "metadata": {
        "id": "ahHH5kEIs577"
      },
      "source": [
        "\n",
        "- The argument `num_words=10000` means that we will only keep the top 10,000 most frequently occurring words in the training data.  \n",
        " **<font color=\"orange\">매개변수 `num_words=10000`</font>은 훈련 데이터에서  \n",
        " 가장 자주 나타나는 단어 10,000개만 사용하겠다는 의미임.**  \n",
        "- Rare words will be discarded. This allows us to work with vector data of manageable size.  \n",
        " <font color=\"orange\">**드물게 나타나는 단어는 무시함 (오타 제거 가능).**  \n",
        " **이렇게 하면 적절한 크기(manageable size)의 벡터 데이터를 얻을 수 있음.**</font>\n",
        "\n",
        "- The variables `train_data` and `test_data` are lists of reviews, each review being a list of word indices (encoding a sequence of words).   \n",
        " **변수 `train_data`와 `test_data`는 리뷰의 목록이고  \n",
        " 각 리뷰는 단어 인덱스의 리스트임(단어 시퀀스가 인코딩된 것임)**\n",
        "- `train_labels` and `test_labels` are lists of 0s and 1s, where 0 stands for \"negative\" and 1 stands for \"positive\"   \n",
        " **`train_labels`와 `test_labels`는 부정을 나타내는 0과 긍정을 나타내는 1의 리스트임**:"
      ]
    },
    {
      "cell_type": "code",
      "execution_count": null,
      "metadata": {
        "colab": {
          "base_uri": "https://localhost:8080/"
        },
        "id": "Z0il0iNos577",
        "outputId": "0f6724b3-6f96-4509-9194-78f7fcf83d0f"
      },
      "outputs": [
        {
          "output_type": "execute_result",
          "data": {
            "text/plain": [
              "[1,\n",
              " 14,\n",
              " 22,\n",
              " 16,\n",
              " 43,\n",
              " 530,\n",
              " 973,\n",
              " 1622,\n",
              " 1385,\n",
              " 65,\n",
              " 458,\n",
              " 4468,\n",
              " 66,\n",
              " 3941,\n",
              " 4,\n",
              " 173,\n",
              " 36,\n",
              " 256,\n",
              " 5,\n",
              " 25,\n",
              " 100,\n",
              " 43,\n",
              " 838,\n",
              " 112,\n",
              " 50,\n",
              " 670,\n",
              " 2,\n",
              " 9,\n",
              " 35,\n",
              " 480,\n",
              " 284,\n",
              " 5,\n",
              " 150,\n",
              " 4,\n",
              " 172,\n",
              " 112,\n",
              " 167,\n",
              " 2,\n",
              " 336,\n",
              " 385,\n",
              " 39,\n",
              " 4,\n",
              " 172,\n",
              " 4536,\n",
              " 1111,\n",
              " 17,\n",
              " 546,\n",
              " 38,\n",
              " 13,\n",
              " 447,\n",
              " 4,\n",
              " 192,\n",
              " 50,\n",
              " 16,\n",
              " 6,\n",
              " 147,\n",
              " 2025,\n",
              " 19,\n",
              " 14,\n",
              " 22,\n",
              " 4,\n",
              " 1920,\n",
              " 4613,\n",
              " 469,\n",
              " 4,\n",
              " 22,\n",
              " 71,\n",
              " 87,\n",
              " 12,\n",
              " 16,\n",
              " 43,\n",
              " 530,\n",
              " 38,\n",
              " 76,\n",
              " 15,\n",
              " 13,\n",
              " 1247,\n",
              " 4,\n",
              " 22,\n",
              " 17,\n",
              " 515,\n",
              " 17,\n",
              " 12,\n",
              " 16,\n",
              " 626,\n",
              " 18,\n",
              " 2,\n",
              " 5,\n",
              " 62,\n",
              " 386,\n",
              " 12,\n",
              " 8,\n",
              " 316,\n",
              " 8,\n",
              " 106,\n",
              " 5,\n",
              " 4,\n",
              " 2223,\n",
              " 5244,\n",
              " 16,\n",
              " 480,\n",
              " 66,\n",
              " 3785,\n",
              " 33,\n",
              " 4,\n",
              " 130,\n",
              " 12,\n",
              " 16,\n",
              " 38,\n",
              " 619,\n",
              " 5,\n",
              " 25,\n",
              " 124,\n",
              " 51,\n",
              " 36,\n",
              " 135,\n",
              " 48,\n",
              " 25,\n",
              " 1415,\n",
              " 33,\n",
              " 6,\n",
              " 22,\n",
              " 12,\n",
              " 215,\n",
              " 28,\n",
              " 77,\n",
              " 52,\n",
              " 5,\n",
              " 14,\n",
              " 407,\n",
              " 16,\n",
              " 82,\n",
              " 2,\n",
              " 8,\n",
              " 4,\n",
              " 107,\n",
              " 117,\n",
              " 5952,\n",
              " 15,\n",
              " 256,\n",
              " 4,\n",
              " 2,\n",
              " 7,\n",
              " 3766,\n",
              " 5,\n",
              " 723,\n",
              " 36,\n",
              " 71,\n",
              " 43,\n",
              " 530,\n",
              " 476,\n",
              " 26,\n",
              " 400,\n",
              " 317,\n",
              " 46,\n",
              " 7,\n",
              " 4,\n",
              " 2,\n",
              " 1029,\n",
              " 13,\n",
              " 104,\n",
              " 88,\n",
              " 4,\n",
              " 381,\n",
              " 15,\n",
              " 297,\n",
              " 98,\n",
              " 32,\n",
              " 2071,\n",
              " 56,\n",
              " 26,\n",
              " 141,\n",
              " 6,\n",
              " 194,\n",
              " 7486,\n",
              " 18,\n",
              " 4,\n",
              " 226,\n",
              " 22,\n",
              " 21,\n",
              " 134,\n",
              " 476,\n",
              " 26,\n",
              " 480,\n",
              " 5,\n",
              " 144,\n",
              " 30,\n",
              " 5535,\n",
              " 18,\n",
              " 51,\n",
              " 36,\n",
              " 28,\n",
              " 224,\n",
              " 92,\n",
              " 25,\n",
              " 104,\n",
              " 4,\n",
              " 226,\n",
              " 65,\n",
              " 16,\n",
              " 38,\n",
              " 1334,\n",
              " 88,\n",
              " 12,\n",
              " 16,\n",
              " 283,\n",
              " 5,\n",
              " 16,\n",
              " 4472,\n",
              " 113,\n",
              " 103,\n",
              " 32,\n",
              " 15,\n",
              " 16,\n",
              " 5345,\n",
              " 19,\n",
              " 178,\n",
              " 32]"
            ]
          },
          "metadata": {},
          "execution_count": 3
        }
      ],
      "source": [
        "train_data[0]"
      ]
    },
    {
      "cell_type": "code",
      "execution_count": null,
      "metadata": {
        "colab": {
          "base_uri": "https://localhost:8080/"
        },
        "id": "MxWE-ZDws578",
        "outputId": "cc3d4326-50dc-40f4-b2e3-1f2c62441683"
      },
      "outputs": [
        {
          "output_type": "execute_result",
          "data": {
            "text/plain": [
              "1"
            ]
          },
          "metadata": {},
          "execution_count": 4
        }
      ],
      "source": [
        "train_labels[0] #긍정리뷰"
      ]
    },
    {
      "cell_type": "markdown",
      "metadata": {
        "id": "DBIqyIHIs578"
      },
      "source": [
        "Since we restricted ourselves to the top 10,000 most frequent words, no word index will exceed 10,000  \n",
        "(가장 자주 등장하는 단어 10,000개로 제한했기 때문에 단어 인덱스는 10,000을 넘지 않음):"
      ]
    },
    {
      "cell_type": "code",
      "execution_count": null,
      "metadata": {
        "colab": {
          "base_uri": "https://localhost:8080/"
        },
        "id": "DqcQpFg8s578",
        "outputId": "31442f79-f8dc-4293-dd6a-b3b48d66ce3c"
      },
      "outputs": [
        {
          "output_type": "execute_result",
          "data": {
            "text/plain": [
              "9999"
            ]
          },
          "metadata": {},
          "execution_count": 5
        }
      ],
      "source": [
        "max([max(sequence) for sequence in train_data])"
      ]
    },
    {
      "cell_type": "markdown",
      "metadata": {
        "id": "pDjNjUmss579"
      },
      "source": [
        "For kicks, here's how you can quickly decode one of these reviews back to English words  \n",
        "(리뷰 데이터 하나를 원래 영어 단어로 어떻게 바꾸는지 보겠음):"
      ]
    },
    {
      "cell_type": "code",
      "execution_count": null,
      "metadata": {
        "colab": {
          "base_uri": "https://localhost:8080/"
        },
        "id": "j83FoAl4s579",
        "outputId": "6659e8cc-8f78-44e6-d515-9556768562a8"
      },
      "outputs": [
        {
          "output_type": "stream",
          "name": "stdout",
          "text": [
            "Downloading data from https://storage.googleapis.com/tensorflow/tf-keras-datasets/imdb_word_index.json\n",
            "1641221/1641221 [==============================] - 0s 0us/step\n"
          ]
        }
      ],
      "source": [
        "# word_index는 단어를 정수 색인에 매핑하는 사전\n",
        "word_index = imdb.get_word_index()\n",
        "# 우리는 반대로 정수 인덱스를 단어에 매핑함\n",
        "reverse_word_index = dict([(value, key) for (key, value) in word_index.items()])\n",
        "# 리뷰를 decode함; 이때 인덱스는 3만큼 오프셋되어 있음\n",
        "# 0, 1, 2는 \"padding\", \"start of sequence\" 및 \"unknown\"을 위해 예약된 인덱스이기 때문임 #특수 형태 인덱스로 사용됨.\n",
        "# 실제 단어는 3번부터\n",
        "decoded_review = ' '.join([reverse_word_index.get(i - 3, '?') for i in train_data[0]]) # i-3에 해당하는 단어가 있으면 반환하고, 없으면 '?'로 대체"
      ]
    },
    {
      "cell_type": "code",
      "execution_count": null,
      "metadata": {
        "colab": {
          "base_uri": "https://localhost:8080/",
          "height": 90
        },
        "id": "ozYDMus1s579",
        "outputId": "3689422a-9237-46fe-ca24-f81201f3d632"
      },
      "outputs": [
        {
          "output_type": "execute_result",
          "data": {
            "text/plain": [
              "\"? this film was just brilliant casting location scenery story direction everyone's really suited the part they played and you could just imagine being there robert ? is an amazing actor and now the same being director ? father came from the same scottish island as myself so i loved the fact there was a real connection with this film the witty remarks throughout the film were great it was just brilliant so much that i bought the film as soon as it was released for ? and would recommend it to everyone to watch and the fly fishing was amazing really cried at the end it was so sad and you know what they say if you cry at a film it must have been good and this definitely was also ? to the two little boy's that played the ? of norman and paul they were just brilliant children are often left out of the ? list i think because the stars that play them all grown up are such a big profile for the whole film but these children are amazing and should be praised for what they have done don't you think the whole story was so lovely because it was true and was someone's life after all that was shared with us all\""
            ],
            "application/vnd.google.colaboratory.intrinsic+json": {
              "type": "string"
            }
          },
          "metadata": {},
          "execution_count": 7
        }
      ],
      "source": [
        "decoded_review"
      ]
    },
    {
      "cell_type": "markdown",
      "source": [
        "- key값이 없으면 default로 '?'로 받음."
      ],
      "metadata": {
        "id": "RpYjV5uG916w"
      }
    },
    {
      "cell_type": "markdown",
      "metadata": {
        "id": "9UTXuHKOs579"
      },
      "source": [
        "## 데이터 준비\n",
        "\n",
        "<font color=\"orange\">**신경망에 숫자 리스트를 주입할 수는 없음**</font>   \n",
        "<U>리스트를 텐서로 바꾸는 두 가지 방법</U>이 있음:\n",
        "\n",
        "* 같은 길이가 되도록 리스트에 패딩을 추가하고 `(samples, sequence_length)` 크기의 정수 텐서로 변환함.  \n",
        "그다음 이 정수 텐서를 다룰 수 있는 층을 <font color=\"orange\">**신경망의 첫 번째 층 (`Embedding` layer)으로 사용함**</font>  \n",
        "(`Embedding` 층을 말하며 나중에 자세히 다룸).  \n",
        " **이 방법을 주로 사용함.**\n",
        "* 리스트를 <font color=\"orange\">**원-핫 인코딩 (One-hot encoding)**</font>하여 0과 1의 벡터로 변환함.  \n",
        "예를 들면 시퀀스 `[3, 5]`를 인덱스 3과 5의 위치는 1이고 그 외는 모두 0인 10,000차원의 벡터로 각각 변환함.  \n",
        "그다음 부동 소수 벡터 데이터를 다룰 수 있는 `Dense` 층을 신경망의 첫 번째 층으로 사용함\n",
        "\n",
        "여기서는 두 번째 방식을 사용하고 이해를 돕기 위해 직접 데이터를 원-핫 벡터로 만듦:"
      ]
    },
    {
      "cell_type": "code",
      "execution_count": null,
      "metadata": {
        "id": "zrWdsqD1s57-"
      },
      "outputs": [],
      "source": [
        "import numpy as np\n",
        "\n",
        "def vectorize_sequences(sequences, dimension=10000):\n",
        "    # Create an all-zero matrix of shape (len(sequences), dimension)\n",
        "    results = np.zeros((len(sequences), dimension))\n",
        "    for i, sequence in enumerate(sequences):\n",
        "        results[i, sequence] = 1.  # set specific indices of results[i] to 1s\n",
        "    return results\n",
        "\n",
        "    #tool categorical ? 을 사용하면 더 쉽지만, ..\n",
        "\n",
        "# Our vectorized training data\n",
        "x_train = vectorize_sequences(train_data)\n",
        "# Our vectorized test data\n",
        "x_test = vectorize_sequences(test_data)"
      ]
    },
    {
      "cell_type": "markdown",
      "metadata": {
        "id": "lhlUzWfTs57-"
      },
      "source": [
        "Here's what our samples look like now:"
      ]
    },
    {
      "cell_type": "code",
      "execution_count": null,
      "metadata": {
        "colab": {
          "base_uri": "https://localhost:8080/"
        },
        "id": "XGEiyEjKs57-",
        "outputId": "29166963-5d67-4c80-ab5f-83be1b9008e5"
      },
      "outputs": [
        {
          "output_type": "execute_result",
          "data": {
            "text/plain": [
              "array([0., 1., 1., ..., 0., 0., 0.])"
            ]
          },
          "metadata": {},
          "execution_count": 9
        }
      ],
      "source": [
        "x_train[0]"
      ]
    },
    {
      "cell_type": "markdown",
      "metadata": {
        "id": "NYIiorTIs57-"
      },
      "source": [
        "We should also vectorize our labels, which is straightforward:"
      ]
    },
    {
      "cell_type": "code",
      "execution_count": null,
      "metadata": {
        "id": "xPnChrtrs57-"
      },
      "outputs": [],
      "source": [
        "# Our vectorized labels\n",
        "y_train = np.asarray(train_labels).astype('float32')\n",
        "y_test = np.asarray(test_labels).astype('float32')"
      ]
    },
    {
      "cell_type": "markdown",
      "metadata": {
        "id": "aIe7v3zqs57_"
      },
      "source": [
        "Now our data is ready to be fed into a neural network."
      ]
    },
    {
      "cell_type": "markdown",
      "metadata": {
        "id": "uqeCAp-rs57_"
      },
      "source": [
        "## Building our network\n",
        "\n",
        "- 입력 데이터가 벡터이고 레이블은 스칼라(1 또는 0)임.  \n",
        "- 아마 앞으로 볼 수 있는 문제 중에서 가장 간단할 것임.  \n",
        "- 이런 문제에 잘 작동하는 네트워크 종류는 `relu` 활성화 함수를 사용한  \n",
        "완전 연결 층(즉, `Dense(16, activation='relu')`)을 그냥 쌓은 것임\n",
        "\n",
        "- `Dense` 층에 전달한 매개변수(16)는 은닉 유닛의 개수임.  \n",
        "<font color=\"orange\">**하나의 은닉 유닛은 층이 나타내는 표현 공간에서 하나의 차원이 됨**</font>.  \n",
        "- `relu` 활성화 함수를 사용한 `Dense` 층을 다음과 같은 텐서 연산을 연결하여 구현함\n",
        "\n",
        "`output = relu(dot(W, input) + b)`\n",
        "\n",
        "- 16개의 은닉 유닛이 있다는 것은 가중치 행렬 `W`의 크기가 `(input_dimension, 16)`이라는 뜻임.\n",
        "- i.e. the dot product with `W` will project the input data onto a **16-dimensional representation space** (and then we would add the bias vector `b` and apply the `relu` operation).  \n",
        "(**입력 데이터와 `W`를 점곱하면 입력 데이터가 16차원으로 표현된 공간으로 투영됨**)\n",
        "- You can **intuitively understand the dimensionality of your representation space as \"how much freedom you are allowing the network to have when learning internal representations\".**  \n",
        "(표현공간의 차원을 <font color=\"orange\">**'신경망이 내재된 표현을 학습할 때 가질 수 있는 자유도'**</font>로 이해할 수 있음)\n",
        "- Having more hidden units (a higher-dimensional representation space) allows your network to learn more complex representations  \n",
        "(**은닉 유닛을 늘리면(표현 공간을 더 고차원으로 만들면) 신경망이 더욱 복잡한 표현을 학습할 수 있음**)\n",
        "- but it makes your network more computationally expensive and may lead to learning unwanted patterns (patterns that will improve performance on the training data but not on the test data).   \n",
        "(**하지만 계산 비용이 커지고 원하지 안는 패턴을 학습할 수도 있음**)\n",
        "\n",
        "There are two key architecture decisions to be made about such stack of dense layers:\n",
        "\n",
        "* <font color=\"orange\">**How many layers to use.  \n",
        "(얼마나 많은 층을 사용할 것인가?)</font>**\n",
        "* <font color=\"orange\">**How many \"hidden units\" to chose for each layer  \n",
        "(각 층에 얼마나 많은 은닉 유닉을 둘 것인가?)**</font>\n",
        "\n",
        "\n",
        "We will use the following architecture choice (이 예제에서는 다음과 같은 구조를 사용함) :\n",
        "* two intermediate layers with 16 hidden units each,  \n",
        "(16개의 은닉 유닛을 가진 두 개의 은닉층)\n",
        "* a third layer which will output the scalar prediction regarding the sentiment of the current review.   \n",
        "(현재 리뷰의 감정을 스칼라 값의 예측으로 출력하는 세 번째 층)\n",
        "\n",
        "* The intermediate layers will use `relu` as their \"activation function\",  \n",
        "(중간에 있는 은닉층은 활성화 함수로 `relu`를 사용)\n",
        "* the final layer will use a **sigmoid activation** so as to output a probability (a score between 0 and 1, indicating how likely the sample is to have the target \"1\", i.e. how likely the review is to be positive).  \n",
        "(마지막 층은 확률(0과 1 사이의 점수로, 어떤 샘플이 타깃 '1'일 가능성이 높다는 것은 그 리뷰가 긍정일 가능성이 높다는 것을 의미함)을 출력하기 위해 시그모이드 활성화 함수를 사용함)  \n",
        "\n",
        "\n",
        "* A `relu` (rectified linear unit) is a function meant to zero-out negative values,  \n",
        "(**`relu`는 음수를 0으로 만드는 함수임**)\n",
        "* while a sigmoid \"squashes\" arbitrary values into the `[0, 1]` interval, thus outputting something that can be interpreted as a probability.  \n",
        "(**시그모이드는 임의의 값을 [0, 1] 사이로 압축하므로 출력 값을 확률처럼 해석할 수 있음.**)\n",
        "\n",
        "<div>\n",
        "<img src=\"https://drive.google.com/uc?export=view&id=1oyflbZE5F4Dl3Op7INBCC63YSl8S0ise\" width=\"300\"/>\n",
        "</div>\n",
        "\n",
        "<div>\n",
        "<img src=\"https://drive.google.com/uc?export=view&id=1gPxYq21VBX8G1AHN7KI0bVEdxZ8kaa-8\" width=\"300\"/>\n",
        "</div>"
      ]
    },
    {
      "cell_type": "markdown",
      "source": [
        "<div>\n",
        "<img src=\"https://drive.google.com/uc?export=view&id=1zvPucolRyF1icPhzck8Zp6--WzDnDBCn\" width=\"600\"/>\n",
        "</div>\n"
      ],
      "metadata": {
        "id": "42N-rQrkSbby"
      }
    },
    {
      "cell_type": "markdown",
      "source": [
        "<div>\n",
        "<img src=\"https://drive.google.com/uc?export=view&id=18Ga01hvyhVIMaGu271LRPt08TtAI-2Qd\" width=\"300\"/>\n",
        "</div>"
      ],
      "metadata": {
        "id": "Ipw8kaR9SrDK"
      }
    },
    {
      "cell_type": "markdown",
      "source": [
        "\"\"표현공간\"\"\n",
        "Dense 레이어에 전달된 매개변수 16, 히든노드가 16개라는 의미이다.\n",
        "히든 노드의 갯수가 16개이고, 16개라는 의미는 총 16차원으로 이루어져 있다는 것이다.\n",
        "16차원으로 표현된 공간으로 되는 것. 결국에는\n",
        "은닉층, 히든 레이어 유닛수를 늘린다 -> 표현공간을 고차원으로, capacity를 늘어주는 레이어 수를 늘리거나 노드수를 늘리면,\n",
        "표현력\"\"\" 이라는 것을 많이사용한다."
      ],
      "metadata": {
        "id": "kZcMxu7gMhu9"
      }
    },
    {
      "cell_type": "markdown",
      "metadata": {
        "id": "Wom-1quWs57_"
      },
      "source": [
        "And here's the Keras implementation, very similar to the MNIST example you saw previously  \n",
        "(다음은 이 신경망의 케라스 구현임. 이전에 보았던 MNIST 예제와 비슷함):"
      ]
    },
    {
      "cell_type": "code",
      "execution_count": null,
      "metadata": {
        "id": "E8MLmscBs58A"
      },
      "outputs": [],
      "source": [
        "from keras import models\n",
        "from keras import layers\n",
        "\n",
        "model = models.Sequential()\n",
        "model.add(layers.Dense(16, activation='relu', input_shape=(10000,))) #input shape 차원, 10000차원, 빈번한 단어로 제안해서.\n",
        "model.add(layers.Dense(16, activation='relu'))\n",
        "model.add(layers.Dense(1, activation='sigmoid')) # 바이너리에서는 activation 에서는 sigmoid, 1개여도 상관없다. 클래스 1에 속할 확률로 속하기 때문이다.\n",
        "\n",
        "#multi class clacification에서는 노드 수 만큼 ... (1,2 참고 꼭!)"
      ]
    },
    {
      "cell_type": "code",
      "source": [
        "model.summary()"
      ],
      "metadata": {
        "colab": {
          "base_uri": "https://localhost:8080/"
        },
        "id": "XCbxXZ_azFft",
        "outputId": "1c463d4c-bfb5-4fd3-a5e0-7be3bd3280f6"
      },
      "execution_count": null,
      "outputs": [
        {
          "output_type": "stream",
          "name": "stdout",
          "text": [
            "Model: \"sequential\"\n",
            "_________________________________________________________________\n",
            " Layer (type)                Output Shape              Param #   \n",
            "=================================================================\n",
            " dense (Dense)               (None, 16)                160016    \n",
            "                                                                 \n",
            " dense_1 (Dense)             (None, 16)                272       \n",
            "                                                                 \n",
            " dense_2 (Dense)             (None, 1)                 17        \n",
            "                                                                 \n",
            "=================================================================\n",
            "Total params: 160305 (626.19 KB)\n",
            "Trainable params: 160305 (626.19 KB)\n",
            "Non-trainable params: 0 (0.00 Byte)\n",
            "_________________________________________________________________\n"
          ]
        }
      ]
    },
    {
      "cell_type": "markdown",
      "source": [
        "dense : 10000 * 16 + 16\n",
        "dense_1 : 16 * 16 + 16\n",
        "dense_2 : 16 * 1 + 1\n",
        "전부 더하면 학습에 사용할 총 파라미터 수, weight의 갯수"
      ],
      "metadata": {
        "id": "9sIrWhNqNbuA"
      }
    },
    {
      "cell_type": "markdown",
      "metadata": {
        "id": "5Hfb44gis58A"
      },
      "source": [
        "- 마지막으로 **손실 함수와 옵티마이저**를 선택해야 함.\n",
        "- 이진 분류 문제이고 신경망의 출력이 확률이기 때문에  \n",
        "(네트워크의 끝에 **시그모이드 활성화 함수**를 사용한 **하나의 유닛**으로 된 층을 놓았음)   \n",
        "- **`binary_crossentropy` 손실**이 적합함.  \n",
        "- 이 함수가 유일한 선택은 아니고 예를 들어 `mean_squared_error`를 사용할 수도 있음.  \n",
        "- 확률을 출력하는 모델을 사용할 때는 크로스엔트로피가 최선의 선택임.  \n",
        "- **크로스엔트로피는 정보 이론 분야에서 온 개념으로 확률 분포 간의 차이를 측정함**.  \n",
        "여기에서는 **원본 분포와 예측 분포 차이를 측정**함\n",
        "\n",
        "- 다음은 `rmsprop` 옵티마이저와 `binary_crossentropy` 손실 함수로 모델을 설정하는 단계임.  \n",
        "- 훈련하는 동안 정확도를 사용해 모니터링하겠음."
      ]
    },
    {
      "cell_type": "code",
      "execution_count": null,
      "metadata": {
        "id": "u3H4G81ls58A"
      },
      "outputs": [],
      "source": [
        "model.compile(optimizer='rmsprop',\n",
        "              loss='binary_crossentropy',#binary classification 이기 때문에.\n",
        "              metrics=['accuracy']) #특정 지표로는"
      ]
    },
    {
      "cell_type": "markdown",
      "metadata": {
        "id": "RF1kxGMGs58A"
      },
      "source": [
        "- 케라스에 `rmsprop`, `binary_crossentropy`, `accuracy`가 포함되어 있기 때문에 옵티마이저, 손실 함수, 측정 지표를 문자열로 지정하는 것이 가능함.  \n",
        "- 이따금 옵티마이저의 매개변수를 바꾸거나 자신만의 손실 함수, 측정 함수를 전달해야 할 경우가 있음.  \n",
        "전자의경우에는 옵티마이저 파이썬 클래스를 사용해 객체를 직접 만들어 `optimizer` 매개변수에 전달하면 됨:"
      ]
    },
    {
      "cell_type": "code",
      "execution_count": null,
      "metadata": {
        "id": "5FXV2JPts58A"
      },
      "outputs": [],
      "source": [
        "from tensorflow.keras import optimizers\n",
        "\n",
        "model.compile(optimizer=optimizers.RMSprop(learning_rate=0.001),\n",
        "              loss='binary_crossentropy',\n",
        "              metrics=['accuracy'])"
      ]
    },
    {
      "cell_type": "markdown",
      "source": [
        "위, 아래 코드가 동일하다. 단, 사용하는 방법이 다르다."
      ],
      "metadata": {
        "id": "YGll5wbPN5V-"
      }
    },
    {
      "cell_type": "markdown",
      "metadata": {
        "id": "wjglZH9fs58B"
      },
      "source": [
        "The latter can be done by passing function objects as the `loss` or `metrics` arguments  \n",
        "(후자의 경우는 `loss`와 `metrics` 매개변수에 함수 객체를 전달하면 됨):"
      ]
    },
    {
      "cell_type": "code",
      "execution_count": null,
      "metadata": {
        "id": "NBtz59kfs58B"
      },
      "outputs": [],
      "source": [
        "from keras import losses\n",
        "from keras import metrics\n",
        "\n",
        "model.compile(optimizer=optimizers.RMSprop(learning_rate=0.001),\n",
        "              loss=losses.binary_crossentropy,\n",
        "              metrics=[metrics.binary_accuracy])"
      ]
    },
    {
      "cell_type": "markdown",
      "metadata": {
        "id": "yc7pJq6Xs58B"
      },
      "source": [
        "## Validating our approach (훈련 검증)\n",
        "\n",
        "In order to monitor during training the accuracy of the model on data that it has never seen before, we will create a \"validation set\" by\n",
        "setting apart 10,000 samples from the original training data:  \n",
        " **훈련하는 동안 처음 본 데이터에 대한 모델의 정확도를 측정하기 위해서는  \n",
        " 원본 훈련 데이터에서 10,000의 샘플을 떼어서 검증 세트를 만들어야 함**:"
      ]
    },
    {
      "cell_type": "code",
      "execution_count": null,
      "metadata": {
        "id": "9UH-j55ts58B"
      },
      "outputs": [],
      "source": [
        "x_val = x_train[:10000]\n",
        "partial_x_train = x_train[10000:]\n",
        "\n",
        "y_val = y_train[:10000]\n",
        "partial_y_train = y_train[10000:]"
      ]
    },
    {
      "cell_type": "markdown",
      "metadata": {
        "id": "DLVTXVnxs58B"
      },
      "source": [
        "- 이제 모델을 512개 샘플씩 미니 배치를 만들어 20번의 에포크 동안 훈련시킴    \n",
        "(`x_train`과 `y_train` 텐서에 있는 모든 샘플에 대해 20번 반복함).  \n",
        "- 동시에 따로 떼어 놓은 10,000개의 샘플에서 손실과 정확도를 측정할 것임.  \n",
        "이렇게 하려면 `validation_data` 매개변수에 검증 데이터를 전달해야 함:"
      ]
    },
    {
      "cell_type": "markdown",
      "source": [
        "partial_x_train : 실제 입력 데이터\n",
        "총 몇번 에폭 학습 시킬것인지 등 아래 내용이 중요하다.\n"
      ],
      "metadata": {
        "id": "IdJplPWOOZ7z"
      }
    },
    {
      "cell_type": "code",
      "execution_count": null,
      "metadata": {
        "colab": {
          "base_uri": "https://localhost:8080/"
        },
        "id": "BNhKfnWws58B",
        "outputId": "f1cfecf2-f688-4155-9d5b-773118f38477"
      },
      "outputs": [
        {
          "output_type": "stream",
          "name": "stdout",
          "text": [
            "Epoch 1/20\n",
            "30/30 [==============================] - 3s 73ms/step - loss: 0.4948 - binary_accuracy: 0.7901 - val_loss: 0.3954 - val_binary_accuracy: 0.8365\n",
            "Epoch 2/20\n",
            "30/30 [==============================] - 1s 33ms/step - loss: 0.2958 - binary_accuracy: 0.8985 - val_loss: 0.3072 - val_binary_accuracy: 0.8812\n",
            "Epoch 3/20\n",
            "30/30 [==============================] - 1s 33ms/step - loss: 0.2213 - binary_accuracy: 0.9253 - val_loss: 0.2784 - val_binary_accuracy: 0.8909\n",
            "Epoch 4/20\n",
            "30/30 [==============================] - 1s 35ms/step - loss: 0.1787 - binary_accuracy: 0.9401 - val_loss: 0.2757 - val_binary_accuracy: 0.8904\n",
            "Epoch 5/20\n",
            "30/30 [==============================] - 1s 35ms/step - loss: 0.1502 - binary_accuracy: 0.9519 - val_loss: 0.2816 - val_binary_accuracy: 0.8876\n",
            "Epoch 6/20\n",
            "30/30 [==============================] - 1s 32ms/step - loss: 0.1247 - binary_accuracy: 0.9615 - val_loss: 0.3217 - val_binary_accuracy: 0.8734\n",
            "Epoch 7/20\n",
            "30/30 [==============================] - 1s 33ms/step - loss: 0.1092 - binary_accuracy: 0.9665 - val_loss: 0.3215 - val_binary_accuracy: 0.8812\n",
            "Epoch 8/20\n",
            "30/30 [==============================] - 1s 35ms/step - loss: 0.0929 - binary_accuracy: 0.9728 - val_loss: 0.3202 - val_binary_accuracy: 0.8815\n",
            "Epoch 9/20\n",
            "30/30 [==============================] - 1s 33ms/step - loss: 0.0782 - binary_accuracy: 0.9783 - val_loss: 0.3570 - val_binary_accuracy: 0.8781\n",
            "Epoch 10/20\n",
            "30/30 [==============================] - 2s 53ms/step - loss: 0.0645 - binary_accuracy: 0.9847 - val_loss: 0.3590 - val_binary_accuracy: 0.8805\n",
            "Epoch 11/20\n",
            "30/30 [==============================] - 1s 50ms/step - loss: 0.0570 - binary_accuracy: 0.9859 - val_loss: 0.3762 - val_binary_accuracy: 0.8801\n",
            "Epoch 12/20\n",
            "30/30 [==============================] - 1s 36ms/step - loss: 0.0442 - binary_accuracy: 0.9911 - val_loss: 0.4323 - val_binary_accuracy: 0.8637\n",
            "Epoch 13/20\n",
            "30/30 [==============================] - 1s 35ms/step - loss: 0.0398 - binary_accuracy: 0.9918 - val_loss: 0.4138 - val_binary_accuracy: 0.8755\n",
            "Epoch 14/20\n",
            "30/30 [==============================] - 1s 47ms/step - loss: 0.0323 - binary_accuracy: 0.9943 - val_loss: 0.4483 - val_binary_accuracy: 0.8768\n",
            "Epoch 15/20\n",
            "30/30 [==============================] - 1s 34ms/step - loss: 0.0255 - binary_accuracy: 0.9967 - val_loss: 0.5131 - val_binary_accuracy: 0.8686\n",
            "Epoch 16/20\n",
            "30/30 [==============================] - 1s 34ms/step - loss: 0.0241 - binary_accuracy: 0.9955 - val_loss: 0.4823 - val_binary_accuracy: 0.8728\n",
            "Epoch 17/20\n",
            "30/30 [==============================] - 1s 34ms/step - loss: 0.0172 - binary_accuracy: 0.9978 - val_loss: 0.5114 - val_binary_accuracy: 0.8758\n",
            "Epoch 18/20\n",
            "30/30 [==============================] - 1s 31ms/step - loss: 0.0193 - binary_accuracy: 0.9962 - val_loss: 0.5228 - val_binary_accuracy: 0.8720\n",
            "Epoch 19/20\n",
            "30/30 [==============================] - 1s 32ms/step - loss: 0.0110 - binary_accuracy: 0.9990 - val_loss: 0.5701 - val_binary_accuracy: 0.8628\n",
            "Epoch 20/20\n",
            "30/30 [==============================] - 1s 34ms/step - loss: 0.0126 - binary_accuracy: 0.9981 - val_loss: 0.5609 - val_binary_accuracy: 0.8707\n"
          ]
        }
      ],
      "source": [
        "history = model.fit(partial_x_train,\n",
        "                    partial_y_train,\n",
        "                    epochs=20,\n",
        "                    batch_size=512,\n",
        "                    validation_data=(x_val, y_val))"
      ]
    },
    {
      "cell_type": "markdown",
      "metadata": {
        "id": "l1IKVCQms58C"
      },
      "source": [
        "- CPU를 사용해도 에포크마다 2초가 걸리지 않음.  \n",
        "- 전체 훈련은 20초 이상 걸림.  \n",
        "- 에포크가 끝날 때마다 10,000개의 검증 샘플 데이터에서 손실과 정확도를 계산하기 때문에 약간씩 지연됨\n",
        "\n",
        "- `model.fit()` 메서드는 `History` 객체를 반환함\n",
        "- 이 객체는 훈련하는 동안 발생한 모든 정보를 담고 있는 딕셔너리인 `history` 속성을 가지고 있음.  \n",
        "한 번 확인해 보죠:"
      ]
    },
    {
      "cell_type": "code",
      "execution_count": null,
      "metadata": {
        "colab": {
          "base_uri": "https://localhost:8080/"
        },
        "id": "1qzg_Mvns58C",
        "outputId": "c36cdcf9-d109-4d30-a429-360beb9a2ab7"
      },
      "outputs": [
        {
          "output_type": "execute_result",
          "data": {
            "text/plain": [
              "dict_keys(['loss', 'binary_accuracy', 'val_loss', 'val_binary_accuracy'])"
            ]
          },
          "metadata": {},
          "execution_count": 19
        }
      ],
      "source": [
        "history_dict = history.history\n",
        "history_dict.keys()"
      ]
    },
    {
      "cell_type": "markdown",
      "metadata": {
        "id": "4KINu-LUs58C"
      },
      "source": [
        "- 이 딕셔너리는 훈련과 검증하는 동안 모니터링할 측정 지표당 하나씩 모두 네 개의 항목을 담고 있음.  \n",
        "- 맷플롯립을 사용해 훈련과 검증 데이터에 대한 손실과 정확도를 그려 보겠음:"
      ]
    },
    {
      "cell_type": "code",
      "execution_count": null,
      "metadata": {
        "colab": {
          "base_uri": "https://localhost:8080/",
          "height": 472
        },
        "id": "TvULKsEDs58C",
        "outputId": "ab5b9153-a66d-4a57-971e-96e6f6abb819"
      },
      "outputs": [
        {
          "output_type": "display_data",
          "data": {
            "text/plain": [
              "<Figure size 640x480 with 1 Axes>"
            ],
            "image/png": "[encoded data removed]"
          },
          "metadata": {}
        }
      ],
      "source": [
        "import matplotlib.pyplot as plt\n",
        "\n",
        "acc = history.history['binary_accuracy']\n",
        "val_acc = history.history['val_binary_accuracy']\n",
        "loss = history.history['loss']\n",
        "val_loss = history.history['val_loss']\n",
        "\n",
        "epochs = range(1, len(acc) + 1)\n",
        "\n",
        "# \"bo\" is for \"blue dot\"\n",
        "plt.plot(epochs, loss, 'r', label='Training loss')\n",
        "# b is for \"solid blue line\"\n",
        "plt.plot(epochs, val_loss, 'b', label='Validation loss')\n",
        "plt.title('Training and validation loss')\n",
        "plt.xlabel('Epochs')\n",
        "plt.ylabel('Loss')\n",
        "plt.legend()\n",
        "\n",
        "plt.show()"
      ]
    },
    {
      "cell_type": "code",
      "execution_count": null,
      "metadata": {
        "colab": {
          "base_uri": "https://localhost:8080/",
          "height": 472
        },
        "id": "ZgcZO96Os58C",
        "outputId": "8ce4662d-cfd3-4a6c-fc89-c497a532bd58"
      },
      "outputs": [
        {
          "output_type": "display_data",
          "data": {
            "text/plain": [
              "<Figure size 640x480 with 1 Axes>"
            ],
            "image/png": "[encoded data removed]"
          },
          "metadata": {}
        }
      ],
      "source": [
        "plt.clf()   # clear figure\n",
        "acc_values = history_dict['binary_accuracy']\n",
        "val_acc_values = history_dict['val_binary_accuracy']\n",
        "\n",
        "plt.plot(epochs, acc_values, 'r', label='Training acc')\n",
        "plt.plot(epochs, val_acc_values, 'b', label='Validation acc')\n",
        "plt.title('Training and validation accuracy')\n",
        "plt.xlabel('Epochs')\n",
        "plt.ylabel('Loss')\n",
        "plt.legend()\n",
        "\n",
        "plt.show()"
      ]
    },
    {
      "cell_type": "markdown",
      "metadata": {
        "id": "jytNV5cPs58D"
      },
      "source": [
        "- 첫 그래프는 훈련 손실과 검증 손실이고 두번째 그래프는 훈련 정확도와 검증 정확도임.  \n",
        "- **신경망의 무작위한 초기화 때문에 사람마다 결과가 조금 다를 수 있음.**\n",
        "\n",
        "- **여기에서 볼 수 있듯이 훈련 손실이 에포크마다 감소하고 훈련 정확도는 에포크마다 증가함.**  \n",
        "- 경사 하강법 최적화를 사용했을 때 반복마다 최소화되는 것이 손실이므로 기대했던 대로임.  \n",
        "- 검증 손실과 정확도는 이와 같지 않음.  \n",
        "4번째 에포크에서 그래프가 역전되는 것 같음.  \n",
        "이것이 훈련 세트에서 잘 작동하는 모델이 처음 보는 데이터에 잘 작동하지 않을 수 있다고 앞서 언급한 경고의 한 사례임.  \n",
        " 정확한 용어로 말하면 **과대적합(overfitting)**되었다고 함.\n",
        "- 2번째 에포크 이후부터 훈련 데이터에 과도하게 최적화되어 **훈련 데이터에 특화된 표현을 학습**하므로  \n",
        "훈련 세트 이외의 데이터에는 일반화되지 못함.\n",
        "\n",
        "- **Early Stopping**: 이런 경우에 과대적합을 방지하기 위해서 3번째 에포크 이후에 훈련을 중지할 수 있음.  \n",
        "- 지금 단계에서는 다루지 않지만, 과대적합을 완화하는 다양한 종류의 기술을 사용할 수 있음.\n",
        "\n",
        "처음부터 다시 새로운 신경망을 4번의 에포크 동안만 훈련하고 테스트 데이터에서 평가해 보겠음:"
      ]
    },
    {
      "cell_type": "code",
      "execution_count": null,
      "metadata": {
        "colab": {
          "base_uri": "https://localhost:8080/"
        },
        "id": "kWynuLxEs58D",
        "outputId": "64a9f590-bb64-4967-c649-d79bc86eeea7"
      },
      "outputs": [
        {
          "output_type": "stream",
          "name": "stdout",
          "text": [
            "Epoch 1/4\n",
            "49/49 [==============================] - 2s 24ms/step - loss: 0.4594 - accuracy: 0.8141\n",
            "Epoch 2/4\n",
            "49/49 [==============================] - 1s 24ms/step - loss: 0.2710 - accuracy: 0.9024\n",
            "Epoch 3/4\n",
            "49/49 [==============================] - 1s 22ms/step - loss: 0.2102 - accuracy: 0.9242\n",
            "Epoch 4/4\n",
            "49/49 [==============================] - 1s 23ms/step - loss: 0.1801 - accuracy: 0.9347\n",
            "782/782 [==============================] - 3s 3ms/step - loss: 0.2929 - accuracy: 0.8834\n"
          ]
        }
      ],
      "source": [
        "model = models.Sequential()\n",
        "model.add(layers.Dense(16, activation='relu', input_shape=(10000,)))\n",
        "model.add(layers.Dense(16, activation='relu'))\n",
        "model.add(layers.Dense(1, activation='sigmoid'))\n",
        "\n",
        "model.compile(optimizer='rmsprop',\n",
        "              loss='binary_crossentropy',\n",
        "              metrics=['accuracy'])\n",
        "\n",
        "model.fit(x_train, y_train, epochs=4, batch_size=512)\n",
        "results = model.evaluate(x_test, y_test) #평가할 때는 evaluate 라는 것을 활용한다.\n",
        "# 이 내용을 잘 기억하세요"
      ]
    },
    {
      "cell_type": "code",
      "execution_count": null,
      "metadata": {
        "colab": {
          "base_uri": "https://localhost:8080/"
        },
        "id": "88g_zE2xs58D",
        "outputId": "a4514587-ebbd-4e64-ee0d-352fdb2e2068"
      },
      "outputs": [
        {
          "output_type": "execute_result",
          "data": {
            "text/plain": [
              "[0.29287663102149963, 0.8834400177001953]"
            ]
          },
          "metadata": {},
          "execution_count": 23
        }
      ],
      "source": [
        "results #test set"
      ]
    },
    {
      "cell_type": "markdown",
      "metadata": {
        "id": "L-pvxM2Vs58D"
      },
      "source": [
        "* Our fairly naive approach achieves an accuracy of 88%.  \n",
        "*With state-of-the-art approaches, one should be able to get close to 95%."
      ]
    },
    {
      "cell_type": "markdown",
      "metadata": {
        "id": "G3tkmdl0s58D"
      },
      "source": [
        "## Using a trained network to generate predictions on new data (훈련된 모델로 새로운 데이터에 대해 예측하기)\n",
        "\n",
        "After having trained a network, you will want to use it in a practical setting. You can generate the likelihood of reviews being positive\n",
        "by using the `predict` method  \n",
        "* 모델을 훈련시킨 후에 이를 실전 환경에서 사용하고 싶을 것임.  \n",
        "* **predict 메서드**를 사용해서 어떤 리뷰가 긍정일 확률을 예측할 수 있음:"
      ]
    },
    {
      "cell_type": "code",
      "execution_count": null,
      "metadata": {
        "colab": {
          "base_uri": "https://localhost:8080/"
        },
        "id": "XHxaNKhRs58D",
        "outputId": "f71e06fc-7eaf-4b7e-d3c3-8091e23b19ba"
      },
      "outputs": [
        {
          "output_type": "stream",
          "name": "stdout",
          "text": [
            "782/782 [==============================] - 2s 2ms/step\n"
          ]
        },
        {
          "output_type": "execute_result",
          "data": {
            "text/plain": [
              "array([[0.15947415],\n",
              "       [0.9997345 ],\n",
              "       [0.78163254],\n",
              "       ...,\n",
              "       [0.08312666],\n",
              "       [0.05704954],\n",
              "       [0.4921233 ]], dtype=float32)"
            ]
          },
          "metadata": {},
          "execution_count": 24
        }
      ],
      "source": [
        "model.predict(x_test)\n",
        "#predict - 1클래스에 속할 확률값들이 나온다.\n",
        "#threshold 0.5 보다 큰지, 작은지"
      ]
    },
    {
      "cell_type": "markdown",
      "metadata": {
        "id": "nlloNvoDs58D"
      },
      "source": [
        "* **As you can see, the network is very confident for some samples (0.99 or more, or 0.01 or less)**  \n",
        " <font color=\"orange\">**이 모델은 어떤 샘플에 대해 확신을 가짐 (0.99 이상 또는 0.01 이하)**</font>\n",
        "* **But less confident for others (0.4, 0.6).**  \n",
        " <font color=\"orange\">**어떤 샘플에 대해서는 확신이 부족함 (0.4, 0.6)**</font>\n"
      ]
    },
    {
      "cell_type": "markdown",
      "metadata": {
        "id": "WYQW_eQXs58E"
      },
      "source": [
        "## 실습\n",
        "\n",
        "\n",
        "* We were using 2 hidden layers. Try to use 1 or 3 hidden layers and see how it affects validation and test accuracy.  \n",
        "(여기에서는 두 개의 은닉층을 사용했지만, 여러분들은 한 개 또는 세 개의 은닉층을 사용하고 검증과 테스트 정확도에 어떤 영향을 미치는지 확인해 보세요.)\n",
        "* Try to use layers with more hidden units or less hidden units: 32 units, 64 units...  \n",
        "(층의 은닉 유닛을 추가하거나 줄여 보세요: 32개 유닛, 64개 유닛 등)\n",
        "* Try to use the `mse` loss function instead of `binary_crossentropy`.  \n",
        "(binary_crossentropy 대신에 mse 손실 함수를 사용해 보세요.)\n",
        "* Try to use the `tanh` activation (an activation that was popular in the early days of neural networks) instead of `relu`.  \n",
        "(relu 대신에 tanh 활성화 함수(초창기 신경망에서 인기 있었던 함수입니다)를 사용해 보세요.)\n",
        "\n",
        "These experiments will help convince you that the architecture choices we have made are all fairly reasonable, although they can still be\n",
        "improved!"
      ]
    },
    {
      "cell_type": "markdown",
      "metadata": {
        "id": "O9rAkjzcs58E"
      },
      "source": [
        "## 정리\n",
        "\n",
        "다음은 이 예제에서 배운 것들입니다:\n",
        "\n",
        "* 원본 데이터를 신경망에 **텐서**로 주입하기 위해서는 꽤 많은 **전처리(preprocessing)가 필요**함.  \n",
        "* **단어 시퀀스는 이진 벡터로 인코딩될 수 있고 다른 인코딩 방식(token embedding, word embedding)도 있음**.\n",
        "* `relu` 활성화 함수와 함께 `Dense` 층을 쌓은 네트워크는 (감성 분류를 포함하여) 여러 종류의 문제에 적용할 수 있어서 앞으로 자주 사용하게 될 것임\n",
        "* (출력 클래스가 두 개인) 이진 분류 문제에서 네트워크는 <font color=\"orange\">**하나의 유닛과 `sigmoid` 활성화 함수를 가진 `Dense` 층으로 끝나야 함**</font>.  \n",
        "이 **신경망의 출력**은 <U>확률을 나타내는 0과 1 사이의 스칼라 값</U>임  \n",
        "참고)\n",
        "    - 출력층이 두개의 유닛이어도 binary classification이 가능은 함  \n",
        "    - 다만, 출력층을 2개의 유닛으로 사용한다면, softmax와 'categorical_crossentropy'를 사용해서 출력값을 각 클래스에 대한 확률 분포로 뽑아 주어야함. 또한, 정답 레이블도 one-hot encoding형태로 [1, 0] 또는 [0, 1] 형태로 변환해 주어야함.\n",
        "* 이진 분류 문제에서 이런 스칼라 시그모이드 출력에 대해 사용할 손실 함수는 `binary_crossentropy`임.\n",
        "* `rmsprop` 옵티마이저는 문제에 상관없이 일반적으로 충분히 좋은 선택임. 최신 최적 옵티마이저 선택 가능\n",
        "* 훈련 데이터에 대해 성능이 향상됨에 따라 신경망은 과대적합되기 시작하고 이전에 본적 없는 데이터에서는 결과가 점점 나빠지게 됨 (과적합, overfitting 발생).  \n",
        " **<font color=\"orange\">항상 훈련 세트 이외의 데이터(validation dataset, 검증데이터)에서 성능을 모니터링해야 함 (학습곡선 (Learning curve))</font>**."
      ]
    },
    {
      "cell_type": "markdown",
      "source": [
        "주황색 내용 기억\n"
      ],
      "metadata": {
        "id": "D4dJrE2jQNO7"
      }
    },
    {
      "cell_type": "code",
      "source": [],
      "metadata": {
        "id": "drwZj02X0n81"
      },
      "execution_count": null,
      "outputs": []
    }
  ],
  "metadata": {
    "kernelspec": {
      "display_name": "Python 3",
      "language": "python",
      "name": "python3"
    },
    "language_info": {
      "codemirror_mode": {
        "name": "ipython",
        "version": 3
      },
      "file_extension": ".py",
      "mimetype": "text/x-python",
      "name": "python",
      "nbconvert_exporter": "python",
      "pygments_lexer": "ipython3",
      "version": "3.6.13"
    },
    "colab": {
      "provenance": [],
      "include_colab_link": true
    }
  },
  "nbformat": 4,
  "nbformat_minor": 0
}